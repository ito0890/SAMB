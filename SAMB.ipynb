{
  "cells": [
    {
      "cell_type": "code",
      "source": [
        "import pandas as pd\n",
        "\n",
        "df=pd.read_csv('relatorio_lista_de_tarefa.csv', encoding='latin-1', sep=',')\n",
        "df['Última Atualização'] = pd.to_datetime(df['Última Atualização'], format='%d/%m/%Y %H:%M', dayfirst=True, errors='coerce')\n",
        "df['Data de Entrada do Requerimento'] = pd.to_datetime(df['Data de Entrada do Requerimento'], format='%d/%m/%Y %H:%M', dayfirst=True, errors='coerce')\n",
        "df['DER_Year'] = df['Data de Entrada do Requerimento'].dt.year\n",
        "df['DER_Month'] = df['Data de Entrada do Requerimento'].dt.month\n",
        "df['DER_Day'] = df['Data de Entrada do Requerimento'].dt.day\n",
        "df['DER_Hour'] = df['Data de Entrada do Requerimento'].dt.hour\n",
        "df = df.drop(columns=['Data de Entrada do Requerimento'])\n",
        "df['Ultima_Year'] = df['Última Atualização'].dt.year\n",
        "df['Ultima_Month'] = df['Última Atualização'].dt.month\n",
        "df['Ultima_Day'] = df['Última Atualização'].dt.day\n",
        "df['Ultima_Hour'] = df['Última Atualização'].dt.hour\n",
        "df = df.drop(columns=['Última Atualização'])"
      ],
      "metadata": {
        "id": "4ao5iV81VNyQ"
      },
      "execution_count": 27,
      "outputs": []
    },
    {
      "cell_type": "code",
      "source": [
        "# Create the 'TITULAR' column and initialize it with 0\n",
        "df['TITULAR'] = 0\n",
        "\n",
        "# Find rows containing the target phrase and set 'TITULAR' to 1\n",
        "df.loc[df['Campos Adicionais'].str.contains('Você se identifica como::a', na=False), 'TITULAR'] = 1\n",
        "\n",
        "# Create the 'TITULAR' column and initialize it with 0\n",
        "df['OUTRONB'] = 1\n",
        "\n",
        "# Find rows containing the target phrase and set 'TITULAR' to 1\n",
        "df.loc[df['Campos Adicionais'].str.contains(r'Você possui outro benefício para o qual deseja atualizar os dados\\?:B', na=True), 'OUTRONB'] = 0\n",
        "\n",
        "# Create the 'TITULAR' column and initialize it with 0\n",
        "df['ATIVIDADE'] = 1\n",
        "\n",
        "# Find rows containing the target phrase and set 'TITULAR' to 1\n",
        "df.loc[df['Campos Adicionais'].str.contains(r'Você deseja incluir ou atualizar sua atividade\\?:B', na=True), 'ATIVIDADE'] = 0"
      ],
      "metadata": {
        "id": "I4ChbC6WW1Vr"
      },
      "execution_count": 42,
      "outputs": []
    },
    {
      "cell_type": "code",
      "source": [
        "# Display the updated DataFrame or perform further analysis\n",
        "filtered_df = df[(df['TITULAR']==1) & (df['OUTRONB']==0) & (df['ATIVIDADE']==0)]\n",
        "sorted_df = filtered_df.sort_values(by=['DER_Year', 'DER_Month', 'DER_Day'],  ascending=True)\n",
        "sorted_df.head(60)\n",
        "sorted_df[['Protocolo']].to_csv('protocolos.csv', index=False)"
      ],
      "metadata": {
        "collapsed": true,
        "id": "d-IZIj7sa0Bp"
      },
      "execution_count": 49,
      "outputs": []
    },
    {
      "cell_type": "code",
      "execution_count": 38,
      "metadata": {
        "colab": {
          "base_uri": "https://localhost:8080/",
          "height": 391
        },
        "id": "VMxKiSijl-uu",
        "outputId": "4b460c98-4d29-48ea-d532-ee6980114f35"
      },
      "outputs": [
        {
          "output_type": "error",
          "ename": "FileNotFoundError",
          "evalue": "[Errno 2] No such file or directory: '2025-04-19 - PEN-EXG.CSV'",
          "traceback": [
            "\u001b[0;31m---------------------------------------------------------------------------\u001b[0m",
            "\u001b[0;31mFileNotFoundError\u001b[0m                         Traceback (most recent call last)",
            "\u001b[0;32m<ipython-input-38-b189567eaabc>\u001b[0m in \u001b[0;36m<cell line: 0>\u001b[0;34m()\u001b[0m\n\u001b[1;32m      1\u001b[0m \u001b[0;32mimport\u001b[0m \u001b[0mpandas\u001b[0m \u001b[0;32mas\u001b[0m \u001b[0mpd\u001b[0m\u001b[0;34m\u001b[0m\u001b[0;34m\u001b[0m\u001b[0m\n\u001b[1;32m      2\u001b[0m \u001b[0;34m\u001b[0m\u001b[0m\n\u001b[0;32m----> 3\u001b[0;31m \u001b[0mdf\u001b[0m\u001b[0;34m=\u001b[0m\u001b[0mpd\u001b[0m\u001b[0;34m.\u001b[0m\u001b[0mread_csv\u001b[0m\u001b[0;34m(\u001b[0m\u001b[0;34m'2025-04-19 - PEN-EXG.CSV'\u001b[0m\u001b[0;34m,\u001b[0m \u001b[0mencoding\u001b[0m\u001b[0;34m=\u001b[0m\u001b[0;34m'latin-1'\u001b[0m\u001b[0;34m,\u001b[0m \u001b[0msep\u001b[0m\u001b[0;34m=\u001b[0m\u001b[0;34m';'\u001b[0m\u001b[0;34m)\u001b[0m\u001b[0;34m\u001b[0m\u001b[0;34m\u001b[0m\u001b[0m\n\u001b[0m\u001b[1;32m      4\u001b[0m \u001b[0;34m\u001b[0m\u001b[0m\n\u001b[1;32m      5\u001b[0m \u001b[0mdf\u001b[0m\u001b[0;34m[\u001b[0m\u001b[0;34m'Última Atualização'\u001b[0m\u001b[0;34m]\u001b[0m \u001b[0;34m=\u001b[0m \u001b[0mpd\u001b[0m\u001b[0;34m.\u001b[0m\u001b[0mto_datetime\u001b[0m\u001b[0;34m(\u001b[0m\u001b[0mdf\u001b[0m\u001b[0;34m[\u001b[0m\u001b[0;34m'Última Atualização'\u001b[0m\u001b[0;34m]\u001b[0m\u001b[0;34m,\u001b[0m \u001b[0mformat\u001b[0m\u001b[0;34m=\u001b[0m\u001b[0;34m'%d/%m/%Y %H:%M'\u001b[0m\u001b[0;34m,\u001b[0m \u001b[0mdayfirst\u001b[0m\u001b[0;34m=\u001b[0m\u001b[0;32mTrue\u001b[0m\u001b[0;34m,\u001b[0m \u001b[0merrors\u001b[0m\u001b[0;34m=\u001b[0m\u001b[0;34m'coerce'\u001b[0m\u001b[0;34m)\u001b[0m\u001b[0;34m\u001b[0m\u001b[0;34m\u001b[0m\u001b[0m\n",
            "\u001b[0;32m/usr/local/lib/python3.11/dist-packages/pandas/io/parsers/readers.py\u001b[0m in \u001b[0;36mread_csv\u001b[0;34m(filepath_or_buffer, sep, delimiter, header, names, index_col, usecols, dtype, engine, converters, true_values, false_values, skipinitialspace, skiprows, skipfooter, nrows, na_values, keep_default_na, na_filter, verbose, skip_blank_lines, parse_dates, infer_datetime_format, keep_date_col, date_parser, date_format, dayfirst, cache_dates, iterator, chunksize, compression, thousands, decimal, lineterminator, quotechar, quoting, doublequote, escapechar, comment, encoding, encoding_errors, dialect, on_bad_lines, delim_whitespace, low_memory, memory_map, float_precision, storage_options, dtype_backend)\u001b[0m\n\u001b[1;32m   1024\u001b[0m     \u001b[0mkwds\u001b[0m\u001b[0;34m.\u001b[0m\u001b[0mupdate\u001b[0m\u001b[0;34m(\u001b[0m\u001b[0mkwds_defaults\u001b[0m\u001b[0;34m)\u001b[0m\u001b[0;34m\u001b[0m\u001b[0;34m\u001b[0m\u001b[0m\n\u001b[1;32m   1025\u001b[0m \u001b[0;34m\u001b[0m\u001b[0m\n\u001b[0;32m-> 1026\u001b[0;31m     \u001b[0;32mreturn\u001b[0m \u001b[0m_read\u001b[0m\u001b[0;34m(\u001b[0m\u001b[0mfilepath_or_buffer\u001b[0m\u001b[0;34m,\u001b[0m \u001b[0mkwds\u001b[0m\u001b[0;34m)\u001b[0m\u001b[0;34m\u001b[0m\u001b[0;34m\u001b[0m\u001b[0m\n\u001b[0m\u001b[1;32m   1027\u001b[0m \u001b[0;34m\u001b[0m\u001b[0m\n\u001b[1;32m   1028\u001b[0m \u001b[0;34m\u001b[0m\u001b[0m\n",
            "\u001b[0;32m/usr/local/lib/python3.11/dist-packages/pandas/io/parsers/readers.py\u001b[0m in \u001b[0;36m_read\u001b[0;34m(filepath_or_buffer, kwds)\u001b[0m\n\u001b[1;32m    618\u001b[0m \u001b[0;34m\u001b[0m\u001b[0m\n\u001b[1;32m    619\u001b[0m     \u001b[0;31m# Create the parser.\u001b[0m\u001b[0;34m\u001b[0m\u001b[0;34m\u001b[0m\u001b[0m\n\u001b[0;32m--> 620\u001b[0;31m     \u001b[0mparser\u001b[0m \u001b[0;34m=\u001b[0m \u001b[0mTextFileReader\u001b[0m\u001b[0;34m(\u001b[0m\u001b[0mfilepath_or_buffer\u001b[0m\u001b[0;34m,\u001b[0m \u001b[0;34m**\u001b[0m\u001b[0mkwds\u001b[0m\u001b[0;34m)\u001b[0m\u001b[0;34m\u001b[0m\u001b[0;34m\u001b[0m\u001b[0m\n\u001b[0m\u001b[1;32m    621\u001b[0m \u001b[0;34m\u001b[0m\u001b[0m\n\u001b[1;32m    622\u001b[0m     \u001b[0;32mif\u001b[0m \u001b[0mchunksize\u001b[0m \u001b[0;32mor\u001b[0m \u001b[0miterator\u001b[0m\u001b[0;34m:\u001b[0m\u001b[0;34m\u001b[0m\u001b[0;34m\u001b[0m\u001b[0m\n",
            "\u001b[0;32m/usr/local/lib/python3.11/dist-packages/pandas/io/parsers/readers.py\u001b[0m in \u001b[0;36m__init__\u001b[0;34m(self, f, engine, **kwds)\u001b[0m\n\u001b[1;32m   1618\u001b[0m \u001b[0;34m\u001b[0m\u001b[0m\n\u001b[1;32m   1619\u001b[0m         \u001b[0mself\u001b[0m\u001b[0;34m.\u001b[0m\u001b[0mhandles\u001b[0m\u001b[0;34m:\u001b[0m \u001b[0mIOHandles\u001b[0m \u001b[0;34m|\u001b[0m \u001b[0;32mNone\u001b[0m \u001b[0;34m=\u001b[0m \u001b[0;32mNone\u001b[0m\u001b[0;34m\u001b[0m\u001b[0;34m\u001b[0m\u001b[0m\n\u001b[0;32m-> 1620\u001b[0;31m         \u001b[0mself\u001b[0m\u001b[0;34m.\u001b[0m\u001b[0m_engine\u001b[0m \u001b[0;34m=\u001b[0m \u001b[0mself\u001b[0m\u001b[0;34m.\u001b[0m\u001b[0m_make_engine\u001b[0m\u001b[0;34m(\u001b[0m\u001b[0mf\u001b[0m\u001b[0;34m,\u001b[0m \u001b[0mself\u001b[0m\u001b[0;34m.\u001b[0m\u001b[0mengine\u001b[0m\u001b[0;34m)\u001b[0m\u001b[0;34m\u001b[0m\u001b[0;34m\u001b[0m\u001b[0m\n\u001b[0m\u001b[1;32m   1621\u001b[0m \u001b[0;34m\u001b[0m\u001b[0m\n\u001b[1;32m   1622\u001b[0m     \u001b[0;32mdef\u001b[0m \u001b[0mclose\u001b[0m\u001b[0;34m(\u001b[0m\u001b[0mself\u001b[0m\u001b[0;34m)\u001b[0m \u001b[0;34m->\u001b[0m \u001b[0;32mNone\u001b[0m\u001b[0;34m:\u001b[0m\u001b[0;34m\u001b[0m\u001b[0;34m\u001b[0m\u001b[0m\n",
            "\u001b[0;32m/usr/local/lib/python3.11/dist-packages/pandas/io/parsers/readers.py\u001b[0m in \u001b[0;36m_make_engine\u001b[0;34m(self, f, engine)\u001b[0m\n\u001b[1;32m   1878\u001b[0m                 \u001b[0;32mif\u001b[0m \u001b[0;34m\"b\"\u001b[0m \u001b[0;32mnot\u001b[0m \u001b[0;32min\u001b[0m \u001b[0mmode\u001b[0m\u001b[0;34m:\u001b[0m\u001b[0;34m\u001b[0m\u001b[0;34m\u001b[0m\u001b[0m\n\u001b[1;32m   1879\u001b[0m                     \u001b[0mmode\u001b[0m \u001b[0;34m+=\u001b[0m \u001b[0;34m\"b\"\u001b[0m\u001b[0;34m\u001b[0m\u001b[0;34m\u001b[0m\u001b[0m\n\u001b[0;32m-> 1880\u001b[0;31m             self.handles = get_handle(\n\u001b[0m\u001b[1;32m   1881\u001b[0m                 \u001b[0mf\u001b[0m\u001b[0;34m,\u001b[0m\u001b[0;34m\u001b[0m\u001b[0;34m\u001b[0m\u001b[0m\n\u001b[1;32m   1882\u001b[0m                 \u001b[0mmode\u001b[0m\u001b[0;34m,\u001b[0m\u001b[0;34m\u001b[0m\u001b[0;34m\u001b[0m\u001b[0m\n",
            "\u001b[0;32m/usr/local/lib/python3.11/dist-packages/pandas/io/common.py\u001b[0m in \u001b[0;36mget_handle\u001b[0;34m(path_or_buf, mode, encoding, compression, memory_map, is_text, errors, storage_options)\u001b[0m\n\u001b[1;32m    871\u001b[0m         \u001b[0;32mif\u001b[0m \u001b[0mioargs\u001b[0m\u001b[0;34m.\u001b[0m\u001b[0mencoding\u001b[0m \u001b[0;32mand\u001b[0m \u001b[0;34m\"b\"\u001b[0m \u001b[0;32mnot\u001b[0m \u001b[0;32min\u001b[0m \u001b[0mioargs\u001b[0m\u001b[0;34m.\u001b[0m\u001b[0mmode\u001b[0m\u001b[0;34m:\u001b[0m\u001b[0;34m\u001b[0m\u001b[0;34m\u001b[0m\u001b[0m\n\u001b[1;32m    872\u001b[0m             \u001b[0;31m# Encoding\u001b[0m\u001b[0;34m\u001b[0m\u001b[0;34m\u001b[0m\u001b[0m\n\u001b[0;32m--> 873\u001b[0;31m             handle = open(\n\u001b[0m\u001b[1;32m    874\u001b[0m                 \u001b[0mhandle\u001b[0m\u001b[0;34m,\u001b[0m\u001b[0;34m\u001b[0m\u001b[0;34m\u001b[0m\u001b[0m\n\u001b[1;32m    875\u001b[0m                 \u001b[0mioargs\u001b[0m\u001b[0;34m.\u001b[0m\u001b[0mmode\u001b[0m\u001b[0;34m,\u001b[0m\u001b[0;34m\u001b[0m\u001b[0;34m\u001b[0m\u001b[0m\n",
            "\u001b[0;31mFileNotFoundError\u001b[0m: [Errno 2] No such file or directory: '2025-04-19 - PEN-EXG.CSV'"
          ]
        }
      ],
      "source": [
        "import pandas as pd\n",
        "\n",
        "df=pd.read_csv('2025-04-19 - PEN-EXG.CSV', encoding='latin-1', sep=';')\n",
        "\n",
        "df['Última Atualização'] = pd.to_datetime(df['Última Atualização'], format='%d/%m/%Y %H:%M', dayfirst=True, errors='coerce')\n",
        "df['Data de Entrada do Requerimento'] = pd.to_datetime(df['Data de Entrada do Requerimento'], format='%d/%m/%Y %H:%M', dayfirst=True, errors='coerce')\n",
        "df['DER_Year'] = df['Data de Entrada do Requerimento'].dt.year\n",
        "df['DER_Month'] = df['Data de Entrada do Requerimento'].dt.month\n",
        "df['DER_Day'] = df['Data de Entrada do Requerimento'].dt.day\n",
        "df['DER_Hour'] = df['Data de Entrada do Requerimento'].dt.hour\n",
        "df = df.drop(columns=['Data de Entrada do Requerimento'])\n",
        "df['Ultima_Year'] = df['Última Atualização'].dt.year\n",
        "df['Ultima_Month'] = df['Última Atualização'].dt.month\n",
        "df['Ultima_Day'] = df['Última Atualização'].dt.day\n",
        "df['Ultima_Hour'] = df['Última Atualização'].dt.hour\n",
        "df = df.drop(columns=['Última Atualização'])\n",
        "\n",
        "excluded_services = ['CPF Cancelado na RFB',\n",
        "                     'CPF Suspenso na RFB',\n",
        "                     'Qualificação da Folha de Pagamento_SVCBEN/Painel QDBEN_Inconsistências de CPF na base da RFB']\n",
        "filtered_df = df[~df['Serviço'].isin(excluded_services)]\n",
        "\n",
        "pivot_table = filtered_df.pivot_table(index=['Serviço','Responsáveis'],\n",
        "                             columns='DER_Year',\n",
        "                             aggfunc='size',\n",
        "                             fill_value=0)\n",
        "\n",
        "filtered_pivot_table = pivot_table[[2021, 2022, 2023]]\n",
        "filtered_pivot_table = filtered_pivot_table[(filtered_pivot_table.T != 0).any()]\n",
        "filtered_pivot_table\n",
        "# Include data for January to June 2024\n",
        "for month in range(1, 7):  # Loop through months 1 to 6 (Jan-Jun)\n",
        "    col_name = f'2024_{month:02}'  # Create column name like '2024_01', '2024_02', etc.\n",
        "    filtered_pivot_table[col_name] = df[\n",
        "        (df['DER_Year'] == 2024) & (df['DER_Month'] == month)\n",
        "    ].groupby(['Serviço','Responsáveis']) \\\n",
        "        .size() \\\n",
        "        .reindex(filtered_pivot_table.index, fill_value=0)\n",
        "\n",
        "filtered_pivot_table\n",
        "styled_pivot_table = filtered_pivot_table.style \\\n",
        "    .background_gradient(cmap='Blues') \\\n",
        "    .set_properties(**{'text-align': 'center'}) \\\n",
        "    .format(\"{:.0f}\")\n",
        "\n",
        "styled_pivot_table"
      ]
    },
    {
      "cell_type": "markdown",
      "metadata": {
        "id": "ldWkhJDUVEun"
      },
      "source": [
        "#TEST"
      ]
    },
    {
      "cell_type": "markdown",
      "metadata": {
        "id": "AuaHMpI6VEuo"
      },
      "source": []
    },
    {
      "cell_type": "markdown",
      "metadata": {
        "id": "qj6DhDg9VEup"
      },
      "source": [
        "TEST 2"
      ]
    },
    {
      "cell_type": "markdown",
      "metadata": {
        "id": "XqBFyefPVEup"
      },
      "source": []
    }
  ],
  "metadata": {
    "colab": {
      "provenance": []
    },
    "kernelspec": {
      "display_name": "Python 3",
      "name": "python3"
    },
    "language_info": {
      "name": "python"
    }
  },
  "nbformat": 4,
  "nbformat_minor": 0
}